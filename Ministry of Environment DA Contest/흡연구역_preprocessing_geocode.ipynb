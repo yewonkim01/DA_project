{
  "nbformat": 4,
  "nbformat_minor": 0,
  "metadata": {
    "colab": {
      "provenance": []
    },
    "kernelspec": {
      "name": "python3",
      "display_name": "Python 3"
    },
    "language_info": {
      "name": "python"
    }
  },
  "cells": [
    {
      "cell_type": "code",
      "source": [
        "import pandas as pd\n",
        "import os\n",
        "os.chdir('/content/drive/MyDrive/environment/전처리 데이터 ')"
      ],
      "metadata": {
        "id": "WFPBU_xy2oZV"
      },
      "execution_count": null,
      "outputs": []
    },
    {
      "cell_type": "code",
      "source": [
        "from google.colab import drive\n",
        "drive.mount('/content/drive')"
      ],
      "metadata": {
        "colab": {
          "base_uri": "https://localhost:8080/"
        },
        "id": "dLbl6HjfCQH1",
        "outputId": "9d229851-a20f-4903-fa06-a83d59084a8b"
      },
      "execution_count": null,
      "outputs": [
        {
          "output_type": "stream",
          "name": "stdout",
          "text": [
            "Mounted at /content/drive\n"
          ]
        }
      ]
    },
    {
      "cell_type": "code",
      "source": [
        "import unicodedata\n",
        "\n",
        "a_normalized = unicodedata.normalize('NFC', os.listdir()[1])  # https://byeolcardi.tistory.com/24\n",
        "print(a_normalized[0])\n",
        "print(os.listdir()[1][0])"
      ],
      "metadata": {
        "colab": {
          "base_uri": "https://localhost:8080/"
        },
        "id": "sLVkBjijHwT1",
        "outputId": "4e652e7c-f810-4718-fb53-0ff852b5c4a6"
      },
      "execution_count": null,
      "outputs": [
        {
          "output_type": "stream",
          "name": "stdout",
          "text": [
            "자\n",
            "ᄌ\n"
          ]
        }
      ]
    },
    {
      "cell_type": "code",
      "source": [
        "os.listdir()"
      ],
      "metadata": {
        "colab": {
          "base_uri": "https://localhost:8080/"
        },
        "id": "va7VCSoUKnzE",
        "outputId": "1107e5e6-0366-48d9-b4f8-4a33f306933a"
      },
      "execution_count": null,
      "outputs": [
        {
          "output_type": "execute_result",
          "data": {
            "text/plain": [
              "['df 통합.ipynb',\n",
              " '송파구.csv',\n",
              " '은평구.csv',\n",
              " '중구.csv',\n",
              " '서대문구.csv',\n",
              " '성동구.csv',\n",
              " '영등포구.csv',\n",
              " '강북,관악,구로,동대문,마포,서초구 흡연시설.csv',\n",
              " '광진구.csv',\n",
              " '중랑구.csv',\n",
              " '강서구.csv',\n",
              " '성북구.csv',\n",
              " '양천구.csv',\n",
              " '용산구.csv',\n",
              " '지오코딩 전.csv',\n",
              " '지오코딩 전.gsheet',\n",
              " '지오코딩 전__.csv']"
            ]
          },
          "metadata": {},
          "execution_count": 3
        }
      ]
    },
    {
      "cell_type": "code",
      "source": [
        "### 칼럼변경 필요한 data 처리\n",
        "\n",
        "칼럼변경 = ['영등포구', '성동구','중구','서대문구','송파구','은평구']\n",
        "칼럼변경 = list(map(lambda x: x+'.csv', 칼럼변경))\n",
        "a = [pd.read_csv(i) for i in 칼럼변경]\n",
        "a = pd.concat(a)\n",
        "a.rename(columns = {'도로명주소':'주소'}, inplace=True)\n",
        "\n",
        "###\n",
        "b = pd.read_csv('강북,관악,구로,동대문,마포,서초구 흡연시설.csv')\n",
        "b.rename(columns={'시설형태(개방/폐쇄형)':'시설형태'}, inplace=True)"
      ],
      "metadata": {
        "id": "nFpO-suBbr7P"
      },
      "execution_count": null,
      "outputs": []
    },
    {
      "cell_type": "code",
      "source": [
        "import glob\n",
        "csv_list = [unicodedata.normalize('NFC', i) for i in glob.glob('*.csv')]\n",
        "csv_list = [i for i in csv_list if (i not in 칼럼변경) and i != '강북,관악,구로,동대문,마포,서초구 흡연시설.csv']\n",
        "\n",
        "df_list = []\n",
        "for i in csv_list:\n",
        "  try:\n",
        "        df_list.append(pd.read_csv(i))\n",
        "  except:\n",
        "    try:\n",
        "      df_list.append(pd.read_csv(i, encoding='cp949'))\n",
        "    except Exception as e:\n",
        "      print(i, e)"
      ],
      "metadata": {
        "id": "eI_y6Qj03mcb"
      },
      "execution_count": null,
      "outputs": []
    },
    {
      "cell_type": "code",
      "source": [
        "c = pd.concat(df_list).iloc[:,1:]\n",
        "df = pd.concat([a,b, c])\n",
        "df['자치구'] = df['자치구'].apply(lambda x: x.split()[0] if len(x.split()) == 1 else x.split()[1])"
      ],
      "metadata": {
        "id": "XZShpV2q6c4l"
      },
      "execution_count": null,
      "outputs": []
    },
    {
      "cell_type": "code",
      "source": [],
      "metadata": {
        "id": "1vCKTUfo0ep3"
      },
      "execution_count": null,
      "outputs": []
    },
    {
      "cell_type": "code",
      "source": [],
      "metadata": {
        "id": "VsyIyb1X0etU"
      },
      "execution_count": null,
      "outputs": []
    },
    {
      "cell_type": "code",
      "source": [
        "df = pd.read_csv('지오코딩_후_오류포함.csv', encoding='cp949')"
      ],
      "metadata": {
        "id": "u1NLctttOPAR"
      },
      "execution_count": null,
      "outputs": []
    },
    {
      "cell_type": "code",
      "source": [
        "# 데이터 정제\n",
        "# 14\n",
        "df.loc[14, '위도'] = df.loc[14,'Latitude']\n",
        "df.loc[14, '경도'] = df.loc[14,'Longitude']\n",
        "df.loc[14, '주소'] = '서울특별시 영등포구 의사당대로 143 (여의도동)'\n",
        "\n",
        "# 461\n",
        "df.loc[461,'주소'] = df.loc[461,'설치위치']\n",
        "df.loc[461, '설치위치'] = '호텔'\n",
        "\n",
        "# 1011\n",
        "df.loc[1011, '주소'] = df.loc[1011, '주소'].replace('?', ' ')\n",
        "df.loc[1017, '주소'] = df.loc[1017, '주소'].replace('울','서울').replace('?',' ')\n",
        "\n",
        "# 1066\n",
        "df.loc[1006, '주소'] = df.loc[1006, '주소'].replace('?', ' ')\n",
        "\n",
        "# 건국대학교 도로명주소 기입 - 확실하지 않음 (건국대학교 주소에 '관'으로 추정되는 숫자가 적혀있어서 건국대 도로명 주소 + '관' 추가함)\n",
        "a = df.loc[df['설치위치'] == '건국대학교', '주소']\n",
        "a = a.apply(lambda x: x.split()[0]+'관 '+ ' '.join(x.split()[1:]) if x[0].isdigit() else x)\n",
        "df.loc[df['설치위치'] == '건국대학교', '주소'] = a.apply(lambda x: '서울특별시 광진구 능동로 120 '+x)"
      ],
      "metadata": {
        "id": "0wobopWQUDEE"
      },
      "execution_count": null,
      "outputs": []
    },
    {
      "cell_type": "code",
      "source": [
        "df[df[['Latitude', 'Longitude']].isna().any(axis=1)].to_csv('지오코딩_전_오류만.csv', index=False)"
      ],
      "metadata": {
        "id": "wF_v7rdqZN_C"
      },
      "execution_count": null,
      "outputs": []
    },
    {
      "cell_type": "code",
      "source": [
        "df = pd.read_csv('지오코딩_후_오류포함.csv', encoding='cp949')\n",
        "df_오류만 = pd.read_csv('지오코딩_후_오류만.csv')"
      ],
      "metadata": {
        "id": "9O0D9kSVs6UT"
      },
      "execution_count": null,
      "outputs": []
    },
    {
      "cell_type": "code",
      "source": [
        "df.iloc[df[['Latitude', 'Longitude']].isna().any(axis=1)] = df_오류만\n",
        "df.drop(['위도', '경도'], axis=1, inplace=True)\n",
        "\n",
        "df.rename(columns={\"Latitude\":'위도', 'Longitude':'경도'}, inplace=True)\n",
        "df.to_csv('**서울시_흡연구역.csv', index=False)"
      ],
      "metadata": {
        "id": "xhxzcwQ5s6Wo"
      },
      "execution_count": null,
      "outputs": []
    },
    {
      "cell_type": "code",
      "source": [],
      "metadata": {
        "id": "DtvN-IezG8Iz"
      },
      "execution_count": null,
      "outputs": []
    },
    {
      "cell_type": "code",
      "source": [],
      "metadata": {
        "id": "XpI1bDesG8MX"
      },
      "execution_count": null,
      "outputs": []
    },
    {
      "cell_type": "markdown",
      "source": [
        "위경도 잘못된 데이터 확인"
      ],
      "metadata": {
        "id": "SmkGRXh6G9IY"
      }
    },
    {
      "cell_type": "code",
      "source": [
        "df= pd.read_csv('최종_서울시_흡연구역.csv')\n",
        "\n",
        "def encode(df, data):\n",
        "  자치구 = df.loc[df['주소'] == data, '자치구'].values[0]\n",
        "  if '로' in data:\n",
        "    if 자치구 in data:\n",
        "      return '서울특별시 ' + data\n",
        "    else:\n",
        "      return '서울특별시 ' + 자치구 + ' ' + data\n",
        "  elif '구' in data:\n",
        "      return '서울특별시 ' + data\n",
        "  else:\n",
        "    return data\n",
        "\n",
        "도로명주소_잘못 = df[~df['주소'].str.startswith('서울')]\n",
        "도로명주소_잘못['주소'] = 도로명주소_잘못['주소'].apply(lambda x: encode(도로명주소_잘못, x))"
      ],
      "metadata": {
        "id": "MkkDlEgk6ZUl"
      },
      "execution_count": null,
      "outputs": []
    },
    {
      "cell_type": "code",
      "source": [
        "정제data = pd.read_csv('fin_지오.csv')\n",
        "정제data['index'] = 도로명주소_잘못.index\n",
        "정제data.set_index('index', inplace=True)"
      ],
      "metadata": {
        "id": "AVqQOZRnHDUS"
      },
      "execution_count": null,
      "outputs": []
    },
    {
      "cell_type": "code",
      "source": [
        "df.loc[정제data.index, '주소'] = 정제data['주소']\n",
        "df.loc[정제data.index, '위도'] = 정제data['Latitude']\n",
        "df.loc[정제data.index, '경도'] = 정제data['Longitude']"
      ],
      "metadata": {
        "id": "7iFyx3H0Ni6U"
      },
      "execution_count": null,
      "outputs": []
    },
    {
      "cell_type": "code",
      "source": [
        "df[['위도','경도']].round(2).value_counts().sort_index()"
      ],
      "metadata": {
        "colab": {
          "base_uri": "https://localhost:8080/"
        },
        "id": "GpalA_oM0xRp",
        "outputId": "9c64c94e-77fa-4d6b-a04a-49188fd86b5d"
      },
      "execution_count": null,
      "outputs": [
        {
          "output_type": "execute_result",
          "data": {
            "text/plain": [
              "위도     경도    \n",
              "37.47  126.94     1\n",
              "       126.98     1\n",
              "       127.03     2\n",
              "       127.04     8\n",
              "       127.05     4\n",
              "37.48  126.89     4\n",
              "       126.90     5\n",
              "       126.93     3\n",
              "       126.95     4\n",
              "       126.96     1\n",
              "       126.98     5\n",
              "       127.00     1\n",
              "       127.03     3\n",
              "       127.04    13\n",
              "       127.05     1\n",
              "       127.12     3\n",
              "37.49  126.88     1\n",
              "       126.89     2\n",
              "       126.90     4\n",
              "       126.93     1\n",
              "       126.96     1\n",
              "       127.01     1\n",
              "       127.02     1\n",
              "       127.03     1\n",
              "37.50  126.87     2\n",
              "       126.90     1\n",
              "       127.00     3\n",
              "       127.01     1\n",
              "       127.02     1\n",
              "       127.03     2\n",
              "37.51  126.83     1\n",
              "       126.84     1\n",
              "       126.85     1\n",
              "       126.89     2\n",
              "       126.90     3\n",
              "       126.91     1\n",
              "       126.92     1\n",
              "       127.01     1\n",
              "       127.10     1\n",
              "37.52  126.83     2\n",
              "       126.84     1\n",
              "       126.85     1\n",
              "       126.86     2\n",
              "       126.87     3\n",
              "       126.88     3\n",
              "       126.89     5\n",
              "       126.90     6\n",
              "       126.91     2\n",
              "       126.92     6\n",
              "       126.93    14\n",
              "       126.99     1\n",
              "37.53  126.86     1\n",
              "       126.87     5\n",
              "       126.88     3\n",
              "       126.89     4\n",
              "       126.90     6\n",
              "       126.91     1\n",
              "       126.92     8\n",
              "       126.93     2\n",
              "       126.95     1\n",
              "       126.96    15\n",
              "       126.97     6\n",
              "       126.98     1\n",
              "       126.99     1\n",
              "       127.00     7\n",
              "       127.06     1\n",
              "       127.07     6\n",
              "       127.08    20\n",
              "       127.09     6\n",
              "37.54  126.88     1\n",
              "       126.89     6\n",
              "       126.94     2\n",
              "       126.95    10\n",
              "       126.96     5\n",
              "       126.97    12\n",
              "       127.00     3\n",
              "       127.01     1\n",
              "       127.06     8\n",
              "       127.07    46\n",
              "       127.08    30\n",
              "       127.09    24\n",
              "       127.10    11\n",
              "37.55  126.81     1\n",
              "       126.84     2\n",
              "       126.85     1\n",
              "       126.91     3\n",
              "       126.92     6\n",
              "       126.93     1\n",
              "       126.95     2\n",
              "       126.97     4\n",
              "       126.98    15\n",
              "       127.07    26\n",
              "       127.08    11\n",
              "       127.09    18\n",
              "       127.10     4\n",
              "       127.11     4\n",
              "37.56  126.81     2\n",
              "       126.83     2\n",
              "       126.84     2\n",
              "       126.92     6\n",
              "       126.93     4\n",
              "       126.94     6\n",
              "       126.95     3\n",
              "       126.96     8\n",
              "       126.97     9\n",
              "       126.98     1\n",
              "       127.04     2\n",
              "       127.06     8\n",
              "       127.07    16\n",
              "       127.08    20\n",
              "       127.09    15\n",
              "       127.11     3\n",
              "37.57  126.80     1\n",
              "       126.83     4\n",
              "       126.84     5\n",
              "       126.87     1\n",
              "       126.90     1\n",
              "       126.91     1\n",
              "       126.92     1\n",
              "       126.93     2\n",
              "       126.94     1\n",
              "       126.97     1\n",
              "       126.98     1\n",
              "       126.99     2\n",
              "       127.01     1\n",
              "       127.02     4\n",
              "       127.03     5\n",
              "       127.04     3\n",
              "       127.05     3\n",
              "       127.06    10\n",
              "       127.07    10\n",
              "       127.08    16\n",
              "       127.09     4\n",
              "37.58  126.89     5\n",
              "       126.91     1\n",
              "       126.92     1\n",
              "       126.93     1\n",
              "       126.94     2\n",
              "       127.01     1\n",
              "       127.02     8\n",
              "       127.03     9\n",
              "       127.04     4\n",
              "       127.05     3\n",
              "       127.07     7\n",
              "       127.08     8\n",
              "       127.09    32\n",
              "37.59  126.92     1\n",
              "       126.94     2\n",
              "       127.02     2\n",
              "       127.03     2\n",
              "       127.04     5\n",
              "       127.05     2\n",
              "       127.06     6\n",
              "       127.07     7\n",
              "       127.08    23\n",
              "       127.09    25\n",
              "       127.10    17\n",
              "       127.11     1\n",
              "37.60  126.90     2\n",
              "       126.92     1\n",
              "       126.93     3\n",
              "       127.04     2\n",
              "       127.05     1\n",
              "       127.06     5\n",
              "       127.07     1\n",
              "       127.08    27\n",
              "       127.09    22\n",
              "       127.10    28\n",
              "       127.11     2\n",
              "37.61  126.93     7\n",
              "       126.94     1\n",
              "       127.01     3\n",
              "       127.03     2\n",
              "       127.08    17\n",
              "       127.09     5\n",
              "       127.10    15\n",
              "       127.11     1\n",
              "37.62  126.92     1\n",
              "       126.93     4\n",
              "       127.02     1\n",
              "       127.08     5\n",
              "       127.09     4\n",
              "       127.10     1\n",
              "       127.11     1\n",
              "37.63  126.92     4\n",
              "       127.02     1\n",
              "       127.03     2\n",
              "       127.04     2\n",
              "37.64  126.92     1\n",
              "       127.01     1\n",
              "       127.03     2\n",
              "Name: count, dtype: int64"
            ]
          },
          "metadata": {},
          "execution_count": 442
        }
      ]
    },
    {
      "cell_type": "code",
      "source": [
        "df.to_csv('최종_서울시_흡연구역.csv', index=False)"
      ],
      "metadata": {
        "id": "2lt-QkMv0xVD"
      },
      "execution_count": null,
      "outputs": []
    },
    {
      "cell_type": "code",
      "source": [],
      "metadata": {
        "id": "jVX0tYi2PIP0"
      },
      "execution_count": null,
      "outputs": []
    },
    {
      "cell_type": "code",
      "source": [
        "# geopy보다 구글 api 가 더 잘됨/ 오류가 너무 자주 남\n",
        "\n",
        "주소_nan = df[df[['Latitude', 'Longitude']].isna().any(axis=1)]\n",
        "주소_nan_idx = 주소_nan.index\n",
        "\n",
        "from geopy.geocoders import Nominatim\n",
        "from tqdm import tqdm\n",
        "import numpy as np\n",
        "\n",
        "def geocode(address):\n",
        "    try:\n",
        "        geo_local = Nominatim(user_agent='South Korea')\n",
        "        location = geo_local.geocode(address)\n",
        "        geo = [location.latitude, location.longitude]\n",
        "        return geo\n",
        "\n",
        "    except:\n",
        "        return [0,0]\n",
        "\n",
        "for idx, addr in tqdm(zip(주소_nan_idx, df['주소'])):\n",
        "    df.loc[idx,'latitude'] = geocode(addr)[0]\n",
        "    df.loc[idx,'longitude'] = geocode(addr)[1]"
      ],
      "metadata": {
        "colab": {
          "base_uri": "https://localhost:8080/"
        },
        "id": "uMJFNIUQQpFb",
        "outputId": "ff2738bc-ffb8-4d6a-cfe2-407612731720"
      },
      "execution_count": null,
      "outputs": [
        {
          "output_type": "stream",
          "name": "stderr",
          "text": [
            "16it [00:19,  1.20s/it]WARNING:urllib3.connectionpool:Retrying (Retry(total=1, connect=None, read=None, redirect=None, status=None)) after connection broken by 'ReadTimeoutError(\"HTTPSConnectionPool(host='nominatim.openstreetmap.org', port=443): Read timed out. (read timeout=1)\")': /search?q=%EC%84%9C%EC%9A%B8%ED%8A%B9%EB%B3%84%EC%8B%9C+%EC%98%81%EB%93%B1%ED%8F%AC%EA%B5%AC+%EC%97%AC%EC%9D%98%EB%8F%84%EB%8F%99+%EC%97%AC%EC%9D%98%EB%8C%80%EB%A1%9C+128&format=json&limit=1\n",
            "17it [00:21,  1.56s/it]WARNING:urllib3.connectionpool:Retrying (Retry(total=1, connect=None, read=None, redirect=None, status=None)) after connection broken by 'ReadTimeoutError(\"HTTPSConnectionPool(host='nominatim.openstreetmap.org', port=443): Read timed out. (read timeout=1)\")': /search?q=%EC%84%9C%EC%9A%B8%ED%8A%B9%EB%B3%84%EC%8B%9C+%EC%98%81%EB%93%B1%ED%8F%AC%EA%B5%AC+%EC%97%AC%EC%9D%98%EB%8F%84%EB%8F%99+%EA%B5%AD%ED%9A%8C%EB%8C%80%EB%A1%9C76%EA%B8%B8+18&format=json&limit=1\n",
            "41it [00:50,  1.23s/it]\n"
          ]
        }
      ]
    },
    {
      "cell_type": "code",
      "source": [],
      "metadata": {
        "id": "4I8FDf2ss6cr"
      },
      "execution_count": null,
      "outputs": []
    },
    {
      "cell_type": "code",
      "source": [],
      "metadata": {
        "id": "e-pzzYCPYWMA"
      },
      "execution_count": null,
      "outputs": []
    }
  ]
}